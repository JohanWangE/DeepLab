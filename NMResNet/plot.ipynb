{
 "cells": [
  {
   "cell_type": "code",
   "execution_count": null,
   "metadata": {
    "collapsed": true
   },
   "outputs": [],
   "source": [
    "%matplotlib notebook"
   ]
  },
  {
   "cell_type": "code",
   "execution_count": null,
   "metadata": {
    "collapsed": true
   },
   "outputs": [],
   "source": [
    "import matplotlib.pyplot as plt\n",
    "import re\n",
    "import numpy"
   ]
  },
  {
   "cell_type": "code",
   "execution_count": null,
   "metadata": {
    "collapsed": true
   },
   "outputs": [],
   "source": [
    "global_filename = \"out.txt\""
   ]
  },
  {
   "cell_type": "code",
   "execution_count": null,
   "metadata": {},
   "outputs": [],
   "source": [
    "extract_loss = re.compile(r\"epoch: (\\d+), train set index: (\\d+), average loss: (\\d.\\d+)\")\n",
    "\n",
    "arr_loss = []\n",
    "\n",
    "with open(global_filename) as f:\n",
    "    ctr = 0\n",
    "    for line in f:\n",
    "        match = extract_loss.match(line)\n",
    "        if match:\n",
    "            arr_loss.append(match.group(3))\n",
    "\n",
    "nparr_loss = numpy.array(arr_loss)\n",
    "\n",
    "plt.plot(nparr_loss)\n",
    "plt.show()"
   ]
  },
  {
   "cell_type": "code",
   "execution_count": null,
   "metadata": {},
   "outputs": [],
   "source": [
    "extract_accuracy = re.compile(r\"Correct: (\\d+), total: (\\d+), accuracy: (\\d.\\d+), average loss: (\\d.\\d+)\")\n",
    "arr_acc = []\n",
    "\n",
    "with open(global_filename) as f:\n",
    "    ctr = 0\n",
    "    for line in f:\n",
    "        match = extract_accuracy.match(line)\n",
    "        if match:\n",
    "            arr_acc.append(match.group(3))\n",
    "\n",
    "nparr_acc = numpy.array(arr_acc)\n",
    "\n",
    "plt.plot(nparr_acc)\n",
    "plt.show()"
   ]
  },
  {
   "cell_type": "code",
   "execution_count": null,
   "metadata": {
    "collapsed": true
   },
   "outputs": [],
   "source": []
  }
 ],
 "metadata": {
  "kernelspec": {
   "display_name": "Python 3",
   "language": "python",
   "name": "python3"
  },
  "language_info": {
   "codemirror_mode": {
    "name": "ipython",
    "version": 3
   },
   "file_extension": ".py",
   "mimetype": "text/x-python",
   "name": "python",
   "nbconvert_exporter": "python",
   "pygments_lexer": "ipython3",
   "version": "3.6.2"
  }
 },
 "nbformat": 4,
 "nbformat_minor": 2
}
